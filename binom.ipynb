{
 "cells": [
  {
   "cell_type": "code",
   "execution_count": 24,
   "metadata": {},
   "outputs": [],
   "source": [
    "%matplotlib inline\n",
    "import numpy as np\n",
    "import matplotlib as mpl\n",
    "import matplotlib.pyplot as plt\n",
    "from ipywidgets import interact\n",
    "\n",
    "from scipy.special import comb\n",
    "\n",
    "mpl.rcParams['figure.figsize'] = (15, 8)\n",
    "\n",
    "np.random.seed(1234)\n",
    "n_iter = int(1e4)  # number of iterations, for measurement"
   ]
  },
  {
   "cell_type": "code",
   "execution_count": 50,
   "metadata": {},
   "outputs": [],
   "source": [
    "def plot_dist(x, y_experiment, pdf_theory, ymax=.3, xmax=100):\n",
    "    y_theory = np.fromiter((pdf_theory(i) for i in x), dtype=float)\n",
    "    \n",
    "    fig, ax1 = plt.subplots()\n",
    "    ax2 = ax1.twinx()\n",
    "\n",
    "    ax1.plot(x, y_theory, lw=7, color='gray', alpha=.5, label='pdf or pmf')\n",
    "    ax2.plot(x, y_theory.cumsum(), lw=7, color='gray', alpha=.5)\n",
    "\n",
    "    ax1.plot(x, y_experiment, color='blue', label='cum. rel. freq.')\n",
    "    ax2.plot(x, y_experiment.cumsum(), color='red', label='cum. rel. freq.')\n",
    "\n",
    "    \n",
    "    ax1.xaxis.grid(True)\n",
    "    ax1.set_ylabel('pdf')\n",
    "    ax2.set_ylabel('cdf')\n",
    "    if xmax is not None:\n",
    "        plt.xlim(0, xmax)\n",
    "    if ymax is not None:\n",
    "        ax1.set_ylim(0, ymax)\n",
    "    ax2.set_ylim(0, 1)\n",
    "    \n",
    "    #plt.show()\n"
   ]
  },
  {
   "cell_type": "markdown",
   "metadata": {},
   "source": [
    "# Binomial Distribution\n",
    "\n",
    "二項分布。\n",
    "\n",
    "### Parameters\n",
    "- $n$: number of trials\n",
    "- $p$: proberbility of success\n",
    "\n",
    "確率$p$で成功する独立な試行を$n$回行ったときの成功回数$X$が従う分布。$X \\sim B(n, p)$と書き表す。"
   ]
  },
  {
   "cell_type": "markdown",
   "metadata": {},
   "source": [
    "### pmf\n",
    "$n$回の試行のうち、特定の$x$回の試行 (たとえば、最初の$x$回) で成功して残りの$(n - x)$回失敗する確率は、\n",
    "\n",
    "$$\n",
    "p^x (1-p)^{(n-x)}\n",
    "$$\n",
    "\n",
    "どの$x$回でもよいので$x$回成功する確率を求めたい。これは上記の$\\binom{x}{n}$倍すればいいので、確率質量関数$f$は\n",
    "\n",
    "$$\n",
    "f(x; n, p) = \\binom{x}{n} p^x (1-p)^{(n-x)}\n",
    "$$\n"
   ]
  },
  {
   "cell_type": "code",
   "execution_count": 42,
   "metadata": {},
   "outputs": [],
   "source": [
    "def pdf_theory(n, p, x):\n",
    "    return comb(n, x) * (p ** x) * ((1 - p) ** (n - x))"
   ]
  },
  {
   "cell_type": "markdown",
   "metadata": {},
   "source": [
    "### Relative Frequency\n",
    "相対度数を求める。上記に従って淡々と。"
   ]
  },
  {
   "cell_type": "code",
   "execution_count": 43,
   "metadata": {},
   "outputs": [],
   "source": [
    "def rf_experiment(n, p, n_iter):\n",
    "    success_or_not = np.random.choice((True, False), size=(n_iter, n), p=(p, 1 - p))\n",
    "    x = success_or_not.sum(axis=1, dtype=int)\n",
    "    return np.fromiter(\n",
    "        ((x == k).sum() for k in range(n + 1)),\n",
    "        dtype=float\n",
    "    ) / n_iter"
   ]
  },
  {
   "cell_type": "markdown",
   "metadata": {},
   "source": [
    "### Mean\n",
    "定義より、$n=1$のとき、期待値は$p$。\n",
    "$n>1$としたとき、それぞれの試行は独立なので、期待値は各試行の期待値の和になる。よって、\n",
    "\n",
    "$$\n",
    "E[X] = np \\ \\mathrm{for} \\ X \\sim B(n, p)\n",
    "$$"
   ]
  },
  {
   "cell_type": "markdown",
   "metadata": {},
   "source": [
    "### Numerical Example\n",
    "相対度数とpmfをプロットしてみる。"
   ]
  },
  {
   "cell_type": "code",
   "execution_count": 55,
   "metadata": {
    "scrolled": false
   },
   "outputs": [
    {
     "data": {
      "application/vnd.jupyter.widget-view+json": {
       "model_id": "ae10f879c3dc42138fd1621e24f09762",
       "version_major": 2,
       "version_minor": 0
      },
      "text/plain": [
       "A Jupyter Widget"
      ]
     },
     "metadata": {},
     "output_type": "display_data"
    }
   ],
   "source": [
    "@interact\n",
    "def plot_help(n: (1, 100, 1)=20, p: (0, 1, .1)=.1):\n",
    "    plot_dist(\n",
    "        np.arange(n + 1), \n",
    "        rf_experiment(n, p, n_iter), \n",
    "        lambda k: pdf_theory(n, p, k),\n",
    "        xmax=100, ymax=.3\n",
    "    )\n",
    "    plt.vlines(n*p, 0, 1, colors='orange')\n"
   ]
  },
  {
   "cell_type": "code",
   "execution_count": null,
   "metadata": {},
   "outputs": [],
   "source": []
  }
 ],
 "metadata": {
  "kernelspec": {
   "display_name": "Python 3",
   "language": "python",
   "name": "python3"
  },
  "language_info": {
   "codemirror_mode": {
    "name": "ipython",
    "version": 3
   },
   "file_extension": ".py",
   "mimetype": "text/x-python",
   "name": "python",
   "nbconvert_exporter": "python",
   "pygments_lexer": "ipython3",
   "version": "3.6.5"
  }
 },
 "nbformat": 4,
 "nbformat_minor": 2
}
